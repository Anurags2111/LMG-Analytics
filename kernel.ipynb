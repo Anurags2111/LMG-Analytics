{
  "cells": [
    {
      "metadata": {
        "_uuid": "8f2839f25d086af736a60e9eeb907d3b93b6e0e5",
        "_cell_guid": "b1076dfc-b9ad-4769-8c92-a6c4dae69d19",
        "trusted": true
      },
      "cell_type": "code",
      "source": "# This Python 3 environment comes with many helpful analytics libraries installed\n# It is defined by the kaggle/python docker image: https://github.com/kaggle/docker-python\n# For example, here's several helpful packages to load in \n\nimport numpy as np # linear algebra\nimport pandas as pd # data processing, CSV file I/O (e.g. pd.read_csv)\n\n# Input data files are available in the \"../input/\" directory.\n# For example, running this (by clicking run or pressing Shift+Enter) will list the files in the input directory\n\nimport os\nprint(os.listdir(\"../input\"))\n\n# Any results you write to the current directory are saved as output.",
      "execution_count": 11,
      "outputs": [
        {
          "output_type": "stream",
          "text": "['store-master', 'customer-transaction', 'test-set', 'customer-demographics']\n",
          "name": "stdout"
        }
      ]
    },
    {
      "metadata": {
        "_cell_guid": "79c7e3d0-c299-4dcb-8224-4455121ee9b0",
        "_uuid": "d629ff2d2480ee46fbb7e2d37f6b5fab8052498a",
        "trusted": true
      },
      "cell_type": "code",
      "source": "cd = pd.read_excel(\"../input/customer-demographics/Customer_Demographics.xlsx\")\nct = pd.read_excel(\"../input/customer-transaction/Customer_Transaction.xlsx\")\nsm = pd.read_excel(\"../input/store-master/Store_Master.xlsx\")\ntest = pd.read_excel(\"../input/test-set/Test_Set.xlsx\")",
      "execution_count": 16,
      "outputs": []
    },
    {
      "metadata": {
        "trusted": true,
        "_uuid": "d334d5fa8bd08dd87f6b61a6c15dff6726daf117"
      },
      "cell_type": "code",
      "source": "cd.head()",
      "execution_count": 25,
      "outputs": [
        {
          "output_type": "execute_result",
          "execution_count": 25,
          "data": {
            "text/plain": "        Customer_ID         ...             Last_rdm_txn_dt\n0  1800000006365760         ...          11MAR2018:19:11:57\n1  1800000006365820         ...          16MAR2015:13:39:12\n2  1800000006366060         ...          30JAN2017:19:19:19\n3  1800000006366230         ...          20JUN2017:17:57:27\n4  1800000006366570         ...          17JUN2017:23:08:28\n\n[5 rows x 16 columns]",
            "text/html": "<div>\n<style scoped>\n    .dataframe tbody tr th:only-of-type {\n        vertical-align: middle;\n    }\n\n    .dataframe tbody tr th {\n        vertical-align: top;\n    }\n\n    .dataframe thead th {\n        text-align: right;\n    }\n</style>\n<table border=\"1\" class=\"dataframe\">\n  <thead>\n    <tr style=\"text-align: right;\">\n      <th></th>\n      <th>Customer_ID</th>\n      <th>Territory</th>\n      <th>Nationality</th>\n      <th>Income_Range</th>\n      <th>Job_Type</th>\n      <th>Marital_Status</th>\n      <th>Gender</th>\n      <th>State</th>\n      <th>Language</th>\n      <th>Loyalty_Status</th>\n      <th>Birth_date</th>\n      <th>Age</th>\n      <th>Points</th>\n      <th>First_txn_dt</th>\n      <th>Last_accr_txn_dt</th>\n      <th>Last_rdm_txn_dt</th>\n    </tr>\n  </thead>\n  <tbody>\n    <tr>\n      <th>0</th>\n      <td>1800000006365760</td>\n      <td>United Arab Emirates</td>\n      <td>INDIA</td>\n      <td>Below 5000</td>\n      <td>Services</td>\n      <td>Married</td>\n      <td>M</td>\n      <td>Abu Dhabi</td>\n      <td>English</td>\n      <td>Gold</td>\n      <td>01JUN1959:00:00:00</td>\n      <td>59.0</td>\n      <td>814.0</td>\n      <td>02NOV2010:00:00:00</td>\n      <td>27SEP2018:21:45:25</td>\n      <td>11MAR2018:19:11:57</td>\n    </tr>\n    <tr>\n      <th>1</th>\n      <td>1800000006365820</td>\n      <td>United Arab Emirates</td>\n      <td>UNITED ARAB EMIRATES</td>\n      <td>Below 5000</td>\n      <td>Services</td>\n      <td>Married</td>\n      <td>F</td>\n      <td>Abu Dhabi</td>\n      <td>Arabic</td>\n      <td>Silver</td>\n      <td>01JAN1900:00:00:00</td>\n      <td>NaN</td>\n      <td>212.0</td>\n      <td>06DEC2010:00:00:00</td>\n      <td>16AUG2016:21:08:28</td>\n      <td>16MAR2015:13:39:12</td>\n    </tr>\n    <tr>\n      <th>2</th>\n      <td>1800000006366060</td>\n      <td>United Arab Emirates</td>\n      <td>SRI LANKA</td>\n      <td>Below 5000</td>\n      <td>Services</td>\n      <td>Married</td>\n      <td>M</td>\n      <td>Abu Dhabi</td>\n      <td>English</td>\n      <td>Silver</td>\n      <td>07JUN1959:00:00:00</td>\n      <td>59.0</td>\n      <td>186.0</td>\n      <td>17FEB2011:00:00:00</td>\n      <td>31AUG2018:20:52:18</td>\n      <td>30JAN2017:19:19:19</td>\n    </tr>\n    <tr>\n      <th>3</th>\n      <td>1800000006366230</td>\n      <td>United Arab Emirates</td>\n      <td>JORDAN</td>\n      <td>Below 5000</td>\n      <td>Services</td>\n      <td>Married</td>\n      <td>F</td>\n      <td>Abu Dhabi</td>\n      <td>Arabic</td>\n      <td>Silver</td>\n      <td>21JAN1962:00:00:00</td>\n      <td>57.0</td>\n      <td>126.0</td>\n      <td>30OCT2010:00:00:00</td>\n      <td>30JUL2018:20:30:05</td>\n      <td>20JUN2017:17:57:27</td>\n    </tr>\n    <tr>\n      <th>4</th>\n      <td>1800000006366570</td>\n      <td>United Arab Emirates</td>\n      <td>OCCUPIED PALESTINIAN TERRITORY</td>\n      <td>Below 5000</td>\n      <td>Services</td>\n      <td>Married</td>\n      <td>M</td>\n      <td>Abu Dhabi</td>\n      <td>Arabic</td>\n      <td>Silver</td>\n      <td>01JAN1900:00:00:00</td>\n      <td>NaN</td>\n      <td>197.0</td>\n      <td>10NOV2010:00:00:00</td>\n      <td>03SEP2018:22:10:56</td>\n      <td>17JUN2017:23:08:28</td>\n    </tr>\n  </tbody>\n</table>\n</div>"
          },
          "metadata": {}
        }
      ]
    },
    {
      "metadata": {
        "trusted": true,
        "_uuid": "28b56552b1c61a2eea425931cd0da230b716470d"
      },
      "cell_type": "code",
      "source": "ct.head()",
      "execution_count": 24,
      "outputs": [
        {
          "output_type": "execute_result",
          "execution_count": 24,
          "data": {
            "text/plain": "              Territory Business     ...      Discount  Units_Sold\n0  United Arab Emirates      Max     ...           0.0          -3\n1  United Arab Emirates      Max     ...           0.0           0\n2  United Arab Emirates      Max     ...           0.0           0\n3  United Arab Emirates      Max     ...           0.0           0\n4  United Arab Emirates      Max     ...           0.0           0\n\n[5 rows x 15 columns]",
            "text/html": "<div>\n<style scoped>\n    .dataframe tbody tr th:only-of-type {\n        vertical-align: middle;\n    }\n\n    .dataframe tbody tr th {\n        vertical-align: top;\n    }\n\n    .dataframe thead th {\n        text-align: right;\n    }\n</style>\n<table border=\"1\" class=\"dataframe\">\n  <thead>\n    <tr style=\"text-align: right;\">\n      <th></th>\n      <th>Territory</th>\n      <th>Business</th>\n      <th>Year</th>\n      <th>Week</th>\n      <th>Store_Code</th>\n      <th>City_Name</th>\n      <th>Store_Type</th>\n      <th>Transaction_Type</th>\n      <th>Return_Reason</th>\n      <th>Customer_ID</th>\n      <th>Invoices</th>\n      <th>Item_Count</th>\n      <th>Revenue</th>\n      <th>Discount</th>\n      <th>Units_Sold</th>\n    </tr>\n  </thead>\n  <tbody>\n    <tr>\n      <th>0</th>\n      <td>United Arab Emirates</td>\n      <td>Max</td>\n      <td>2010</td>\n      <td>0</td>\n      <td>60065</td>\n      <td>Dubai</td>\n      <td>Stand alone</td>\n      <td>Return</td>\n      <td>Size Problem</td>\n      <td>1800000058056860</td>\n      <td>1</td>\n      <td>3</td>\n      <td>-169.0</td>\n      <td>0.0</td>\n      <td>-3</td>\n    </tr>\n    <tr>\n      <th>1</th>\n      <td>United Arab Emirates</td>\n      <td>Max</td>\n      <td>2016</td>\n      <td>0</td>\n      <td>60053</td>\n      <td>NaN</td>\n      <td>NaN</td>\n      <td>Purchase</td>\n      <td>NaN</td>\n      <td>1800000020917140</td>\n      <td>1</td>\n      <td>1</td>\n      <td>0.0</td>\n      <td>0.0</td>\n      <td>0</td>\n    </tr>\n    <tr>\n      <th>2</th>\n      <td>United Arab Emirates</td>\n      <td>Max</td>\n      <td>2016</td>\n      <td>0</td>\n      <td>60053</td>\n      <td>NaN</td>\n      <td>NaN</td>\n      <td>Purchase</td>\n      <td>NaN</td>\n      <td>1800000021265010</td>\n      <td>1</td>\n      <td>1</td>\n      <td>0.0</td>\n      <td>0.0</td>\n      <td>0</td>\n    </tr>\n    <tr>\n      <th>3</th>\n      <td>United Arab Emirates</td>\n      <td>Max</td>\n      <td>2016</td>\n      <td>0</td>\n      <td>60053</td>\n      <td>NaN</td>\n      <td>NaN</td>\n      <td>Purchase</td>\n      <td>NaN</td>\n      <td>1800000025693950</td>\n      <td>1</td>\n      <td>4</td>\n      <td>0.0</td>\n      <td>0.0</td>\n      <td>0</td>\n    </tr>\n    <tr>\n      <th>4</th>\n      <td>United Arab Emirates</td>\n      <td>Max</td>\n      <td>2016</td>\n      <td>0</td>\n      <td>60053</td>\n      <td>NaN</td>\n      <td>NaN</td>\n      <td>Purchase</td>\n      <td>NaN</td>\n      <td>1800000044104620</td>\n      <td>1</td>\n      <td>1</td>\n      <td>0.0</td>\n      <td>0.0</td>\n      <td>0</td>\n    </tr>\n  </tbody>\n</table>\n</div>"
          },
          "metadata": {}
        }
      ]
    },
    {
      "metadata": {
        "trusted": true,
        "_uuid": "e8c91941d9094bd38dac32c442cbd6b6ff00569f"
      },
      "cell_type": "code",
      "source": "sm.head()",
      "execution_count": 26,
      "outputs": [
        {
          "output_type": "execute_result",
          "execution_count": 26,
          "data": {
            "text/plain": "              Territory Business      ...       Customer_Count  Total_Revenue\n0  United Arab Emirates      Max      ...              22237.0   1.131676e+07\n1  United Arab Emirates      Max      ...              88372.0   2.603446e+07\n2  United Arab Emirates      Max      ...             188836.0   6.905362e+07\n3  United Arab Emirates      Max      ...              96733.0   2.519873e+07\n4  United Arab Emirates      Max      ...              70456.0   4.621496e+07\n\n[5 rows x 15 columns]",
            "text/html": "<div>\n<style scoped>\n    .dataframe tbody tr th:only-of-type {\n        vertical-align: middle;\n    }\n\n    .dataframe tbody tr th {\n        vertical-align: top;\n    }\n\n    .dataframe thead th {\n        text-align: right;\n    }\n</style>\n<table border=\"1\" class=\"dataframe\">\n  <thead>\n    <tr style=\"text-align: right;\">\n      <th></th>\n      <th>Territory</th>\n      <th>Business</th>\n      <th>Region</th>\n      <th>Region_Code</th>\n      <th>Store_Code</th>\n      <th>Store_Name</th>\n      <th>Mall_Name</th>\n      <th>Store_Format</th>\n      <th>Sales_Per_Day</th>\n      <th>Store_Launch_Date</th>\n      <th>Train_Test_Store</th>\n      <th>Geo_Field</th>\n      <th>Store_Size_Sq_Ft</th>\n      <th>Customer_Count</th>\n      <th>Total_Revenue</th>\n    </tr>\n  </thead>\n  <tbody>\n    <tr>\n      <th>0</th>\n      <td>United Arab Emirates</td>\n      <td>Max</td>\n      <td>MX - Abu Dhabi</td>\n      <td>602</td>\n      <td>60077</td>\n      <td>Max Zayed City Mall</td>\n      <td>City Mall - Abu Dhabi-Uae</td>\n      <td>NaN</td>\n      <td>544.074849</td>\n      <td>2011-11-02</td>\n      <td>Train</td>\n      <td>25.618167, 53.441646</td>\n      <td>4852.220341</td>\n      <td>22237.0</td>\n      <td>1.131676e+07</td>\n    </tr>\n    <tr>\n      <th>1</th>\n      <td>United Arab Emirates</td>\n      <td>Max</td>\n      <td>MX - Sharjah</td>\n      <td>606</td>\n      <td>60073</td>\n      <td>Max Safeer Mall</td>\n      <td>Safeer Mall Sharjah-Uae</td>\n      <td>NaN</td>\n      <td>1251.656549</td>\n      <td>2009-08-21</td>\n      <td>Train</td>\n      <td>25.309997, 55.378550</td>\n      <td>13789.949661</td>\n      <td>88372.0</td>\n      <td>2.603446e+07</td>\n    </tr>\n    <tr>\n      <th>2</th>\n      <td>United Arab Emirates</td>\n      <td>Max</td>\n      <td>MX - Dubai</td>\n      <td>601</td>\n      <td>60065</td>\n      <td>Max Gardens</td>\n      <td>Ibn Battuta Mall-Uae</td>\n      <td>NaN</td>\n      <td>3319.885702</td>\n      <td>2005-04-15</td>\n      <td>Train</td>\n      <td>25.044684, 55.120275</td>\n      <td>15609.687991</td>\n      <td>188836.0</td>\n      <td>6.905362e+07</td>\n    </tr>\n    <tr>\n      <th>3</th>\n      <td>United Arab Emirates</td>\n      <td>Max</td>\n      <td>MX - Dubai</td>\n      <td>601</td>\n      <td>60219</td>\n      <td>MX -Dubai Festival City</td>\n      <td>Dubai Festival City-Uae</td>\n      <td>Stand Alone Stores</td>\n      <td>1211.477261</td>\n      <td>2014-06-12</td>\n      <td>Train</td>\n      <td>25.218486, 55.359313</td>\n      <td>6845.497058</td>\n      <td>96733.0</td>\n      <td>2.519873e+07</td>\n    </tr>\n    <tr>\n      <th>4</th>\n      <td>United Arab Emirates</td>\n      <td>Max</td>\n      <td>MX - Ras Al Khaimah</td>\n      <td>605</td>\n      <td>60071</td>\n      <td>Max Rak</td>\n      <td>STANDALONE</td>\n      <td>NaN</td>\n      <td>2221.872874</td>\n      <td>2006-03-20</td>\n      <td>Train</td>\n      <td>NaN</td>\n      <td>12385.047461</td>\n      <td>70456.0</td>\n      <td>4.621496e+07</td>\n    </tr>\n  </tbody>\n</table>\n</div>"
          },
          "metadata": {}
        }
      ]
    },
    {
      "metadata": {
        "trusted": true,
        "_uuid": "309d30346e9a9870257d5bfeefe324333cb576ac"
      },
      "cell_type": "code",
      "source": "test.head()",
      "execution_count": 20,
      "outputs": [
        {
          "output_type": "execute_result",
          "execution_count": 20,
          "data": {
            "text/plain": "        Customer_ID  Store_Code\n0  1800000006365760       60298\n1  1800000006365760       60299\n2  1800000006365760       60300\n3  1800000006365760       60301\n4  1800000006365820       60298",
            "text/html": "<div>\n<style scoped>\n    .dataframe tbody tr th:only-of-type {\n        vertical-align: middle;\n    }\n\n    .dataframe tbody tr th {\n        vertical-align: top;\n    }\n\n    .dataframe thead th {\n        text-align: right;\n    }\n</style>\n<table border=\"1\" class=\"dataframe\">\n  <thead>\n    <tr style=\"text-align: right;\">\n      <th></th>\n      <th>Customer_ID</th>\n      <th>Store_Code</th>\n    </tr>\n  </thead>\n  <tbody>\n    <tr>\n      <th>0</th>\n      <td>1800000006365760</td>\n      <td>60298</td>\n    </tr>\n    <tr>\n      <th>1</th>\n      <td>1800000006365760</td>\n      <td>60299</td>\n    </tr>\n    <tr>\n      <th>2</th>\n      <td>1800000006365760</td>\n      <td>60300</td>\n    </tr>\n    <tr>\n      <th>3</th>\n      <td>1800000006365760</td>\n      <td>60301</td>\n    </tr>\n    <tr>\n      <th>4</th>\n      <td>1800000006365820</td>\n      <td>60298</td>\n    </tr>\n  </tbody>\n</table>\n</div>"
          },
          "metadata": {}
        }
      ]
    },
    {
      "metadata": {
        "trusted": true,
        "_uuid": "b66039bce105ae055c1684bf08860ab8b27c45b3"
      },
      "cell_type": "code",
      "source": "list(cd)",
      "execution_count": 31,
      "outputs": [
        {
          "output_type": "execute_result",
          "execution_count": 31,
          "data": {
            "text/plain": "['Customer_ID',\n 'Territory',\n 'Nationality',\n 'Income_Range',\n 'Job_Type',\n 'Marital_Status',\n 'Gender',\n 'State',\n 'Language',\n 'Loyalty_Status',\n 'Birth_date',\n 'Age',\n 'Points',\n 'First_txn_dt',\n 'Last_accr_txn_dt',\n 'Last_rdm_txn_dt']"
          },
          "metadata": {}
        }
      ]
    },
    {
      "metadata": {
        "trusted": true,
        "_uuid": "21a2b271fadfff0ef32a03bd2c9889c4cfd1e514"
      },
      "cell_type": "code",
      "source": "list(ct)",
      "execution_count": 32,
      "outputs": [
        {
          "output_type": "execute_result",
          "execution_count": 32,
          "data": {
            "text/plain": "['Territory',\n 'Business',\n 'Year',\n 'Week',\n 'Store_Code',\n 'City_Name',\n 'Store_Type',\n 'Transaction_Type',\n 'Return_Reason',\n 'Customer_ID',\n 'Invoices',\n 'Item_Count',\n 'Revenue',\n 'Discount',\n 'Units_Sold']"
          },
          "metadata": {}
        }
      ]
    },
    {
      "metadata": {
        "trusted": true,
        "_uuid": "046d7a0746c0b1ef8af281a90c68873a3200e57e"
      },
      "cell_type": "code",
      "source": "list(sm)",
      "execution_count": 33,
      "outputs": [
        {
          "output_type": "execute_result",
          "execution_count": 33,
          "data": {
            "text/plain": "['Territory',\n 'Business',\n 'Region',\n 'Region_Code',\n 'Store_Code',\n 'Store_Name',\n 'Mall_Name',\n 'Store_Format',\n 'Sales_Per_Day',\n 'Store_Launch_Date',\n 'Train_Test_Store',\n 'Geo_Field',\n 'Store_Size_Sq_Ft',\n 'Customer_Count',\n 'Total_Revenue']"
          },
          "metadata": {}
        }
      ]
    },
    {
      "metadata": {
        "trusted": true,
        "_uuid": "d3fccf01aef57b1a88d7be0009133e73b2ddea18"
      },
      "cell_type": "code",
      "source": "",
      "execution_count": null,
      "outputs": []
    }
  ],
  "metadata": {
    "kernelspec": {
      "display_name": "Python 3",
      "language": "python",
      "name": "python3"
    },
    "language_info": {
      "name": "python",
      "version": "3.6.6",
      "mimetype": "text/x-python",
      "codemirror_mode": {
        "name": "ipython",
        "version": 3
      },
      "pygments_lexer": "ipython3",
      "nbconvert_exporter": "python",
      "file_extension": ".py"
    }
  },
  "nbformat": 4,
  "nbformat_minor": 1
}